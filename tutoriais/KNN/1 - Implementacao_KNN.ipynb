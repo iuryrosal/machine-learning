{
 "cells": [
  {
   "cell_type": "code",
   "execution_count": 1,
   "metadata": {},
   "outputs": [],
   "source": [
    "import numpy as np"
   ]
  },
  {
   "cell_type": "code",
   "execution_count": 17,
   "metadata": {},
   "outputs": [],
   "source": [
    "def KNN(pred_train, target_train, pred_test, k):\n",
    "  def eucledian_distance(point1, point2):\n",
    "    dist = 0\n",
    "    for i in range(len(point1)):\n",
    "      dist += pow((point1[i] - point2[i]), 2) \n",
    "    return np.sqrt(dist)\n",
    "\n",
    "  def most_frq_class(neighs):\n",
    "    classes = []\n",
    "    for i in range(len(neighs)):\n",
    "      item_class = neighs[i][1]\n",
    "      classes.append(item_class)\n",
    "    class_val = max(set(classes), key=classes.count)\n",
    "    return class_val\n",
    "\n",
    "  result = []\n",
    "  for i in range(len(pred_test)):\n",
    "    test_pred_value = pred_test[i]\n",
    "    print(\"Classificando: \" + str(test_pred_value))\n",
    "    distance = []\n",
    "    for j in range(len(pred_train)):\n",
    "      print(\"Calculando distância: \" + str(pred_train[j]))\n",
    "      eucl_distance = eucledian_distance(test_pred_value, pred_train[j])\n",
    "      temp = [eucl_distance, target_train[j]]\n",
    "      distance.append(temp)\n",
    "    distance.sort()\n",
    "    neighbors = distance[:k]\n",
    "    print(\"Vizinhos mais próximos: \" + str(neighbors))\n",
    "    result.append(most_frq_class(neighbors))\n",
    "    print(\"CLASSIFICADO!\")\n",
    "  return result\n"
   ]
  },
  {
   "cell_type": "code",
   "execution_count": 18,
   "metadata": {},
   "outputs": [],
   "source": [
    "pred_train = [[1000, 10], [1200, 13], [2000, 20], [5000, 40], [6000, 43], [100, 30], [3500, 35]]\n",
    "target_train = [1, 1, 1, 0, 0, 0, 0, 1]\n",
    "pred_test = [[1700, 37], [5000, 40], [1000, 18]]"
   ]
  },
  {
   "cell_type": "code",
   "execution_count": 22,
   "metadata": {},
   "outputs": [
    {
     "name": "stdout",
     "output_type": "stream",
     "text": [
      "Classificando: [1700, 37]\n",
      "Calculando distância: [1000, 10]\n",
      "Calculando distância: [1200, 13]\n",
      "Calculando distância: [2000, 20]\n",
      "Calculando distância: [5000, 40]\n",
      "Calculando distância: [6000, 43]\n",
      "Calculando distância: [100, 30]\n",
      "Calculando distância: [3500, 35]\n",
      "Vizinhos mais próximos: [[300.48128061494947, 1], [500.57566860565646, 1]]\n",
      "CLASSIFICADO!\n",
      "Classificando: [5000, 40]\n",
      "Calculando distância: [1000, 10]\n",
      "Calculando distância: [1200, 13]\n",
      "Calculando distância: [2000, 20]\n",
      "Calculando distância: [5000, 40]\n",
      "Calculando distância: [6000, 43]\n",
      "Calculando distância: [100, 30]\n",
      "Calculando distância: [3500, 35]\n",
      "Vizinhos mais próximos: [[0.0, 0], [1000.0044999898751, 0]]\n",
      "CLASSIFICADO!\n",
      "Classificando: [1000, 18]\n",
      "Calculando distância: [1000, 10]\n",
      "Calculando distância: [1200, 13]\n",
      "Calculando distância: [2000, 20]\n",
      "Calculando distância: [5000, 40]\n",
      "Calculando distância: [6000, 43]\n",
      "Calculando distância: [100, 30]\n",
      "Calculando distância: [3500, 35]\n",
      "Vizinhos mais próximos: [[8.0, 1], [200.06249023742558, 1]]\n",
      "CLASSIFICADO!\n"
     ]
    },
    {
     "data": {
      "text/plain": [
       "[1, 0, 1]"
      ]
     },
     "execution_count": 22,
     "metadata": {},
     "output_type": "execute_result"
    }
   ],
   "source": [
    "KNN(pred_train, target_train, pred_test, k=2)"
   ]
  }
 ],
 "metadata": {
  "interpreter": {
   "hash": "cb4ba80c77914fefcae4b6ab97441bcca38110318b73796501620219806422b4"
  },
  "kernelspec": {
   "display_name": "Python 3.8.8 ('base')",
   "language": "python",
   "name": "python3"
  },
  "language_info": {
   "codemirror_mode": {
    "name": "ipython",
    "version": 3
   },
   "file_extension": ".py",
   "mimetype": "text/x-python",
   "name": "python",
   "nbconvert_exporter": "python",
   "pygments_lexer": "ipython3",
   "version": "3.8.8"
  },
  "orig_nbformat": 4
 },
 "nbformat": 4,
 "nbformat_minor": 2
}
